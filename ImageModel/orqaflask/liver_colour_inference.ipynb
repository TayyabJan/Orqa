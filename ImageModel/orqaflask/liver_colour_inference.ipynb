{
 "cells": [
  {
   "cell_type": "markdown",
   "id": "80be1d75",
   "metadata": {},
   "source": [
    "### OCI Data Science - Useful Tips\n",
    "<details>\n",
    "<summary><font size=\"2\">Check for Public Internet Access</font></summary>\n",
    "\n",
    "```python\n",
    "import requests\n",
    "response = requests.get(\"https://oracle.com\")\n",
    "assert response.status_code==200, \"Internet connection failed\"\n",
    "```\n",
    "</details>\n",
    "<details>\n",
    "<summary><font size=\"2\">Helpful Documentation </font></summary>\n",
    "<ul><li><a href=\"https://docs.cloud.oracle.com/en-us/iaas/data-science/using/data-science.htm\">Data Science Service Documentation</a></li>\n",
    "<li><a href=\"https://docs.cloud.oracle.com/iaas/tools/ads-sdk/latest/index.html\">ADS documentation</a></li>\n",
    "</ul>\n",
    "</details>\n",
    "<details>\n",
    "<summary><font size=\"2\">Typical Cell Imports and Settings for ADS</font></summary>\n",
    "\n",
    "```python\n",
    "%load_ext autoreload\n",
    "%autoreload 2\n",
    "%matplotlib inline\n",
    "\n",
    "import warnings\n",
    "warnings.filterwarnings('ignore')\n",
    "\n",
    "import logging\n",
    "logging.basicConfig(format='%(levelname)s:%(message)s', level=logging.ERROR)\n",
    "\n",
    "import ads\n",
    "from ads.dataset.factory import DatasetFactory\n",
    "from ads.automl.provider import OracleAutoMLProvider\n",
    "from ads.automl.driver import AutoML\n",
    "from ads.evaluations.evaluator import ADSEvaluator\n",
    "from ads.common.data import ADSData\n",
    "from ads.explanations.explainer import ADSExplainer\n",
    "from ads.explanations.mlx_global_explainer import MLXGlobalExplainer\n",
    "from ads.explanations.mlx_local_explainer import MLXLocalExplainer\n",
    "from ads.catalog.model import ModelCatalog\n",
    "from ads.common.model_artifact import ModelArtifact\n",
    "```\n",
    "</details>\n",
    "<details>\n",
    "<summary><font size=\"2\">Useful Environment Variables</font></summary>\n",
    "\n",
    "```python\n",
    "import os\n",
    "print(os.environ[\"NB_SESSION_COMPARTMENT_OCID\"])\n",
    "print(os.environ[\"PROJECT_OCID\"])\n",
    "print(os.environ[\"USER_OCID\"])\n",
    "print(os.environ[\"TENANCY_OCID\"])\n",
    "print(os.environ[\"NB_REGION\"])\n",
    "```\n",
    "</details>"
   ]
  },
  {
   "cell_type": "code",
   "execution_count": 1,
   "id": "56043476",
   "metadata": {},
   "outputs": [
    {
     "name": "stdout",
     "output_type": "stream",
     "text": [
      "model is loaded\n",
      "image59.jpg.jpg  Not exist\n"
     ]
    },
    {
     "ename": "FileNotFoundError",
     "evalue": "[Errno 2] No such file or directory: 'image59.jpg.jpg'",
     "output_type": "error",
     "traceback": [
      "\u001b[1;31m---------------------------------------------------------------------------\u001b[0m",
      "\u001b[1;31mFileNotFoundError\u001b[0m                         Traceback (most recent call last)",
      "\u001b[1;32me:\\tayyab\\Projects\\ProfHassan-Circle.acORG\\Orqa_ImageModel_02_Oct_2023\\liver_colour_inference.ipynb Cell 2\u001b[0m line \u001b[0;36m5\n\u001b[0;32m     <a href='vscode-notebook-cell:/e%3A/tayyab/Projects/ProfHassan-Circle.acORG/Orqa_ImageModel_02_Oct_2023/liver_colour_inference.ipynb#W1sZmlsZQ%3D%3D?line=47'>48</a>\u001b[0m     exit()\n\u001b[0;32m     <a href='vscode-notebook-cell:/e%3A/tayyab/Projects/ProfHassan-Circle.acORG/Orqa_ImageModel_02_Oct_2023/liver_colour_inference.ipynb#W1sZmlsZQ%3D%3D?line=48'>49</a>\u001b[0m \u001b[39m# Extract texture features\u001b[39;00m\n\u001b[1;32m---> <a href='vscode-notebook-cell:/e%3A/tayyab/Projects/ProfHassan-Circle.acORG/Orqa_ImageModel_02_Oct_2023/liver_colour_inference.ipynb#W1sZmlsZQ%3D%3D?line=49'>50</a>\u001b[0m liver_img \u001b[39m=\u001b[39m Image\u001b[39m.\u001b[39;49mopen(file)\n\u001b[0;32m     <a href='vscode-notebook-cell:/e%3A/tayyab/Projects/ProfHassan-Circle.acORG/Orqa_ImageModel_02_Oct_2023/liver_colour_inference.ipynb#W1sZmlsZQ%3D%3D?line=50'>51</a>\u001b[0m \u001b[39mprint\u001b[39m(liver_img)\n\u001b[0;32m     <a href='vscode-notebook-cell:/e%3A/tayyab/Projects/ProfHassan-Circle.acORG/Orqa_ImageModel_02_Oct_2023/liver_colour_inference.ipynb#W1sZmlsZQ%3D%3D?line=51'>52</a>\u001b[0m \u001b[39m# extract features\u001b[39;00m\n",
      "File \u001b[1;32mc:\\Users\\pc\\anaconda3\\lib\\site-packages\\PIL\\Image.py:3227\u001b[0m, in \u001b[0;36mopen\u001b[1;34m(fp, mode, formats)\u001b[0m\n\u001b[0;32m   3224\u001b[0m     filename \u001b[39m=\u001b[39m fp\n\u001b[0;32m   3226\u001b[0m \u001b[39mif\u001b[39;00m filename:\n\u001b[1;32m-> 3227\u001b[0m     fp \u001b[39m=\u001b[39m builtins\u001b[39m.\u001b[39;49mopen(filename, \u001b[39m\"\u001b[39;49m\u001b[39mrb\u001b[39;49m\u001b[39m\"\u001b[39;49m)\n\u001b[0;32m   3228\u001b[0m     exclusive_fp \u001b[39m=\u001b[39m \u001b[39mTrue\u001b[39;00m\n\u001b[0;32m   3230\u001b[0m \u001b[39mtry\u001b[39;00m:\n",
      "\u001b[1;31mFileNotFoundError\u001b[0m: [Errno 2] No such file or directory: 'image59.jpg.jpg'"
     ]
    },
    {
     "ename": "",
     "evalue": "",
     "output_type": "error",
     "traceback": [
      "\u001b[1;31mThe Kernel crashed while executing code in the the current cell or a previous cell. Please review the code in the cell(s) to identify a possible cause of the failure. Click <a href='https://aka.ms/vscodeJupyterKernelCrash'>here</a> for more info. View Jupyter <a href='command:jupyter.viewOutput'>log</a> for further details."
     ]
    }
   ],
   "source": [
    "import os\n",
    "from PIL import Image\n",
    "import joblib\n",
    "import template as tem\n",
    "import random\n",
    "\n",
    "random.seed(0)\n",
    "\n",
    "# path for liver_colour_models\n",
    "model_path = 'colour_RFR_model.joblib'\n",
    "# load model\n",
    "model = joblib.load(model_path)\n",
    "print('model is loaded')\n",
    "\n",
    "\n",
    "def inference_function(features):\n",
    "    features = features.reshape(1, -1)\n",
    "    # get prediction of input features\n",
    "    predict_score = model.predict(features)[0]\n",
    "   \n",
    "    # adjust prediction bound. Prediction is always between 0 and 3\n",
    "    if predict_score < 0:\n",
    "        predict_score = 0.0000\n",
    "    elif predict_score > 3:\n",
    "        predict_score = 3.0000\n",
    "    label = ''\n",
    "    predict_score += 0.5\n",
    "    if predict_score < 1:\n",
    "        label = 'None'\n",
    "    elif 1 < predict_score < 2:\n",
    "        label = 'Mild'\n",
    "    elif 2 <= predict_score < 3.0:\n",
    "        label = 'Moderate'\n",
    "    elif predict_score >= 3.0:\n",
    "        label = 'Severe'\n",
    "\n",
    "    return predict_score, label\n",
    "\n",
    "\n",
    "if __name__ == '__main__':\n",
    "\n",
    "    # image path\n",
    "    file = 'image59.jpg'\n",
    "\n",
    "    # check if the input image is exist\n",
    "    if not os.path.isfile(file):\n",
    "        print(file, ' Not exist')\n",
    "        exit()\n",
    "    # Extract texture features\n",
    "    liver_img = Image.open(file)\n",
    "    print(liver_img)\n",
    "    # extract features\n",
    "    features_ = tem.feature_extraction(liver_img)\n",
    "    print(features_)\n",
    "    if (features_ is None) or (len(features_) == 0):\n",
    "        print('There are not features')\n",
    "        exit()\n",
    "\n",
    "    prediction, pred_label = inference_function(features_)\n",
    "    print('The predicted score for the input image is: ', prediction)\n",
    "    print('The predicted label for the input image is: ', pred_label)\n",
    "    print('Red:', features_[0], '\\nGreen:', features_[1], '\\nBlue:', features_[2])\n"
   ]
  },
  {
   "cell_type": "code",
   "execution_count": 12,
   "id": "faf893ba",
   "metadata": {},
   "outputs": [
    {
     "name": "stdout",
     "output_type": "stream",
     "text": [
      "Requirement already satisfied: joblib==1.2.0 in /home/datascience/conda/tensorflow28_p38_cpu_v1/lib/python3.8/site-packages (1.2.0)\n"
     ]
    }
   ],
   "source": [
    "!pip install joblib==1.2.0"
   ]
  },
  {
   "cell_type": "code",
   "execution_count": null,
   "id": "0a9e5c83",
   "metadata": {},
   "outputs": [],
   "source": [
    "!pip install scikit-learn==1.0.1"
   ]
  }
 ],
 "metadata": {
  "kernelspec": {
   "display_name": "base",
   "language": "python",
   "name": "python3"
  },
  "language_info": {
   "codemirror_mode": {
    "name": "ipython",
    "version": 3
   },
   "file_extension": ".py",
   "mimetype": "text/x-python",
   "name": "python",
   "nbconvert_exporter": "python",
   "pygments_lexer": "ipython3",
   "version": "3.10.9"
  }
 },
 "nbformat": 4,
 "nbformat_minor": 5
}
